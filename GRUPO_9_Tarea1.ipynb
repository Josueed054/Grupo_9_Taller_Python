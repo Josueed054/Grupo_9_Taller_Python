{
  "nbformat": 4,
  "nbformat_minor": 0,
  "metadata": {
    "colab": {
      "provenance": []
    },
    "kernelspec": {
      "name": "python3",
      "display_name": "Python 3"
    },
    "language_info": {
      "name": "python"
    }
  },
  "cells": [
    {
      "cell_type": "code",
      "execution_count": null,
      "metadata": {
        "id": "pgGJ5Jypp-AU"
      },
      "outputs": [],
      "source": []
    },
    {
      "cell_type": "markdown",
      "source": [
        "I. Utilizando un “if else” cree una estructura que evalúe “x” tal que:"
      ],
      "metadata": {
        "id": "XMKA_4TYqSza"
      }
    },
    {
      "cell_type": "code",
      "source": [
        "#Tarea I de Phyton\n",
        "\n",
        "# I. Si x es múltiplo de 2 imprima \"Es multiplo de 2\"\n",
        "def par_impar (n):\n",
        "    if n % 2 == 0:\n",
        "         output = f\"{n} es un número par\"\n",
        "    else:\n",
        "         outpot = f\"Otro Caso\"\n",
        "    return output\n",
        "\n"
      ],
      "metadata": {
        "id": "cy2TR9xhqO2X"
      },
      "execution_count": null,
      "outputs": []
    },
    {
      "cell_type": "code",
      "source": [
        "par_impar(6)"
      ],
      "metadata": {
        "colab": {
          "base_uri": "https://localhost:8080/",
          "height": 36
        },
        "id": "Q24eZCZGqXYz",
        "outputId": "130111aa-4566-4e5c-b142-eaccce9417f9"
      },
      "execution_count": null,
      "outputs": [
        {
          "output_type": "execute_result",
          "data": {
            "text/plain": [
              "'6 es un número par'"
            ],
            "application/vnd.google.colaboratory.intrinsic+json": {
              "type": "string"
            }
          },
          "metadata": {},
          "execution_count": 17
        }
      ]
    },
    {
      "cell_type": "code",
      "source": [
        "#II. SI x es múltiplo de 3 imprima \" Es múltiplo de 3\"\n",
        "def múltiplo_3 (n):\n",
        "  if n % 3 == 0:\n",
        "    output = f\"{n} es un múltiplo de 3\"\n",
        "  else:\n",
        "    output = \"Otro caso\"\n",
        "  return output"
      ],
      "metadata": {
        "id": "fCCvs-_Xq7nn"
      },
      "execution_count": null,
      "outputs": []
    },
    {
      "cell_type": "code",
      "source": [
        "múltiplo_3(6)"
      ],
      "metadata": {
        "colab": {
          "base_uri": "https://localhost:8080/",
          "height": 36
        },
        "id": "j_eyyJ7hrUlh",
        "outputId": "8eb647ec-a7ce-479f-eeb4-5259f765ae75"
      },
      "execution_count": null,
      "outputs": [
        {
          "output_type": "execute_result",
          "data": {
            "text/plain": [
              "'6 es un múltiplo de 3'"
            ],
            "application/vnd.google.colaboratory.intrinsic+json": {
              "type": "string"
            }
          },
          "metadata": {},
          "execution_count": 18
        }
      ]
    },
    {
      "cell_type": "code",
      "source": [
        "#III. Si x es múltiplo de 2 y 3 imprima \"Es múltiplo de 2 y 3\"\n",
        "def múltiplo_3y2 (n):\n",
        "  if n % 2 == 0 and n % 3 == 0:\n",
        "    output = f\"{n} es un múltiplo de 2 y 3\"\n",
        "  else:\n",
        "    output = f\"Otro caso\"\n",
        "  return output"
      ],
      "metadata": {
        "id": "xaDZzfaErXzJ"
      },
      "execution_count": null,
      "outputs": []
    },
    {
      "cell_type": "code",
      "source": [
        "múltiplo_3y2(6)"
      ],
      "metadata": {
        "colab": {
          "base_uri": "https://localhost:8080/",
          "height": 36
        },
        "id": "RARVWcjCrzRh",
        "outputId": "2cf07123-bffd-4ae4-e7db-f0eb3b930ffe"
      },
      "execution_count": null,
      "outputs": [
        {
          "output_type": "execute_result",
          "data": {
            "text/plain": [
              "'6 es un múltiplo de 2 y 3'"
            ],
            "application/vnd.google.colaboratory.intrinsic+json": {
              "type": "string"
            }
          },
          "metadata": {},
          "execution_count": 19
        }
      ]
    },
    {
      "cell_type": "markdown",
      "source": [
        "II. Utilizando \"for loop\" y \"If else\" para un rango de 1 al 100, evalue x tal que:"
      ],
      "metadata": {
        "id": "cYb4Ab4BsgOv"
      }
    },
    {
      "cell_type": "code",
      "source": [
        "# I. Utilizando \"for loop\" y \"If else\" para un rango de 1 al 100, evalue x tal que:\n",
        "numeros = list(range(1, 101))\n",
        "print(numeros)\n",
        "\n",
        "for x in numeros:\n",
        "  if x % 5 == 0 and x % 3 == 0:\n",
        "    print (\"FizzBuzz\")\n",
        "  elif x % 3 == 0:\n",
        "    print (\"Fizz\")\n",
        "  elif x % 5 == 0:\n",
        "    print (\"Buzz\")\n",
        "  elif x % 5 == 0 and x % 3 == 0:\n",
        "    print (\"FizzBuzz\")\n",
        "  else:\n",
        "    print (x)\n",
        "\n",
        "\n"
      ],
      "metadata": {
        "colab": {
          "base_uri": "https://localhost:8080/"
        },
        "collapsed": true,
        "id": "n0bkGUwXsvBJ",
        "outputId": "733a28bc-c7d6-4aa1-9a9d-fc0c480c7d88"
      },
      "execution_count": null,
      "outputs": [
        {
          "output_type": "stream",
          "name": "stdout",
          "text": [
            "[1, 2, 3, 4, 5, 6, 7, 8, 9, 10, 11, 12, 13, 14, 15, 16, 17, 18, 19, 20, 21, 22, 23, 24, 25, 26, 27, 28, 29, 30, 31, 32, 33, 34, 35, 36, 37, 38, 39, 40, 41, 42, 43, 44, 45, 46, 47, 48, 49, 50, 51, 52, 53, 54, 55, 56, 57, 58, 59, 60, 61, 62, 63, 64, 65, 66, 67, 68, 69, 70, 71, 72, 73, 74, 75, 76, 77, 78, 79, 80, 81, 82, 83, 84, 85, 86, 87, 88, 89, 90, 91, 92, 93, 94, 95, 96, 97, 98, 99, 100]\n",
            "1\n",
            "2\n",
            "Fizz\n",
            "4\n",
            "Buzz\n",
            "Fizz\n",
            "7\n",
            "8\n",
            "Fizz\n",
            "Buzz\n",
            "11\n",
            "Fizz\n",
            "13\n",
            "14\n",
            "FizzBuzz\n",
            "16\n",
            "17\n",
            "Fizz\n",
            "19\n",
            "Buzz\n",
            "Fizz\n",
            "22\n",
            "23\n",
            "Fizz\n",
            "Buzz\n",
            "26\n",
            "Fizz\n",
            "28\n",
            "29\n",
            "FizzBuzz\n",
            "31\n",
            "32\n",
            "Fizz\n",
            "34\n",
            "Buzz\n",
            "Fizz\n",
            "37\n",
            "38\n",
            "Fizz\n",
            "Buzz\n",
            "41\n",
            "Fizz\n",
            "43\n",
            "44\n",
            "FizzBuzz\n",
            "46\n",
            "47\n",
            "Fizz\n",
            "49\n",
            "Buzz\n",
            "Fizz\n",
            "52\n",
            "53\n",
            "Fizz\n",
            "Buzz\n",
            "56\n",
            "Fizz\n",
            "58\n",
            "59\n",
            "FizzBuzz\n",
            "61\n",
            "62\n",
            "Fizz\n",
            "64\n",
            "Buzz\n",
            "Fizz\n",
            "67\n",
            "68\n",
            "Fizz\n",
            "Buzz\n",
            "71\n",
            "Fizz\n",
            "73\n",
            "74\n",
            "FizzBuzz\n",
            "76\n",
            "77\n",
            "Fizz\n",
            "79\n",
            "Buzz\n",
            "Fizz\n",
            "82\n",
            "83\n",
            "Fizz\n",
            "Buzz\n",
            "86\n",
            "Fizz\n",
            "88\n",
            "89\n",
            "FizzBuzz\n",
            "91\n",
            "92\n",
            "Fizz\n",
            "94\n",
            "Buzz\n",
            "Fizz\n",
            "97\n",
            "98\n",
            "Fizz\n",
            "Buzz\n"
          ]
        }
      ]
    },
    {
      "cell_type": "code",
      "source": [],
      "metadata": {
        "id": "dX5vxRcz-RaX"
      },
      "execution_count": null,
      "outputs": []
    },
    {
      "cell_type": "markdown",
      "source": [
        "III. Crea una función 𝒄𝒂𝒍𝒄𝒖𝒍𝒂𝒓_𝒅𝒆𝒔𝒄𝒖𝒆𝒏𝒕𝒐() que permita calcular el descuento aplicado a un\n",
        "producto."
      ],
      "metadata": {
        "id": "I8wQ_add-VES"
      }
    },
    {
      "cell_type": "code",
      "source": [
        "#Creando la función calcular descuento\n",
        "def calcular_descuento(precio_original):\n",
        "  if precio_original >= 1000:\n",
        "    A = precio_original * 0.20\n",
        "    precio_original =precio_original * 0.80\n",
        "    print(f\"Su descuento fue de {A} con un precio final de {precio_original}\")\n",
        "  elif precio_original >= 500 and precio_original < 1000:\n",
        "    B = precio_original * 0.10\n",
        "    precio_original = precio_original * 0.90\n",
        "\n",
        "    print(f\"Su descuento fue de {B} con un precio final de {precio_original}\")\n",
        "  else:\n",
        "    precio_original = precio_original\n",
        "    print(\"No tuvo descuento\")\n",
        "  return precio_original\n",
        "#Compra del cliente\n",
        "compra = (1200, 750, 300)\n",
        "for x in compra:\n",
        "  calcular_descuento(x)\n",
        "  print(x)\n"
      ],
      "metadata": {
        "colab": {
          "base_uri": "https://localhost:8080/"
        },
        "id": "xB0Y8HoFwaZV",
        "outputId": "cd0218cb-3e40-438b-d73b-23cdc2609238"
      },
      "execution_count": null,
      "outputs": [
        {
          "output_type": "stream",
          "name": "stdout",
          "text": [
            "Su descuento fue de 240.0 con un precio final de 960.0\n",
            "1200\n",
            "Su descuento fue de 75.0 con un precio final de 675.0\n",
            "750\n",
            "No tuvo descuento\n",
            "300\n"
          ]
        }
      ]
    },
    {
      "cell_type": "code",
      "source": [
        "calcular_descuento(500)"
      ],
      "metadata": {
        "colab": {
          "base_uri": "https://localhost:8080/"
        },
        "id": "VT4c0gnZ0fyo",
        "outputId": "2931e732-54d9-43f0-945f-baaab0c99644"
      },
      "execution_count": null,
      "outputs": [
        {
          "output_type": "stream",
          "name": "stdout",
          "text": [
            "Su descuento fue de 50.0\n"
          ]
        },
        {
          "output_type": "execute_result",
          "data": {
            "text/plain": [
              "450.0"
            ]
          },
          "metadata": {},
          "execution_count": 89
        }
      ]
    },
    {
      "cell_type": "markdown",
      "source": [
        "IV.Crea una función llamada 𝒄𝒍𝒂𝒔𝒊𝒇𝒊𝒄𝒂𝒓_𝒆𝒅𝒂𝒅() que reciba como parámetro la edad de una\n",
        "persona. La función debe clasificar a la persona en una de las siguientes categorías:\n"
      ],
      "metadata": {
        "id": "GJpH1b3t-bz_"
      }
    },
    {
      "cell_type": "code",
      "source": [
        "#Creando la función clasificar_edad\n",
        "def clasificar_edad (edad):\n",
        "  if edad <= 12:\n",
        "    print (\"Niño\")\n",
        "  elif edad >= 12 and edad <= 17:\n",
        "    print (\"Adolescente\")\n",
        "  elif edad >= 18 and edad <= 24:\n",
        "    print (\"Joven\")\n",
        "  elif edad >= 25 and edad <= 64:\n",
        "    print (\"Adulto\")\n",
        "  else:\n",
        "    print (\"Adulto Mayor\")\n",
        "#Lista de edades\n",
        "lista_edades = (10,19,25,70)\n",
        "for x in lista_edades:\n",
        "  clasificar_edad(x)\n",
        "  print(x)\n"
      ],
      "metadata": {
        "colab": {
          "base_uri": "https://localhost:8080/"
        },
        "id": "K7unwW7c1KDZ",
        "outputId": "a182b0d1-78df-4624-f354-60395dc9492e"
      },
      "execution_count": null,
      "outputs": [
        {
          "output_type": "stream",
          "name": "stdout",
          "text": [
            "Niño\n",
            "10\n",
            "Joven\n",
            "19\n",
            "Adulto\n",
            "25\n",
            "Adulto Mayor\n",
            "70\n"
          ]
        }
      ]
    },
    {
      "cell_type": "markdown",
      "source": [
        "V. Sea la fórmula del CRAEST PUCP"
      ],
      "metadata": {
        "id": "ULbgl33n-gmG"
      }
    },
    {
      "cell_type": "code",
      "source": [
        "#Creando la fórmula del Craest\n",
        "\n",
        "def calcular_craest(media_personal, media_curso, desv_est):\n",
        "  ''' Inputs:\n",
        "  media_personal = media del estudiante\n",
        "  media_curso = media del curso\n",
        "  desv_est = desviación estandar del curso\n",
        "  output: calculo del craest\n",
        "  '''\n",
        "  craest = (media_personal - media_curso)*10/ desv_est +50\n",
        "  return craest\n",
        "#resultado_académico = (14,15, 3.5)\n"
      ],
      "metadata": {
        "id": "NWhwijHt61kq"
      },
      "execution_count": null,
      "outputs": []
    },
    {
      "cell_type": "code",
      "source": [
        "calcular_craest(14,15, 3.5)"
      ],
      "metadata": {
        "colab": {
          "base_uri": "https://localhost:8080/"
        },
        "id": "gNYXhqaT72pV",
        "outputId": "2972d35e-8b5f-49dc-fddd-571d1cad27b3"
      },
      "execution_count": null,
      "outputs": [
        {
          "output_type": "execute_result",
          "data": {
            "text/plain": [
              "47.142857142857146"
            ]
          },
          "metadata": {},
          "execution_count": 108
        }
      ]
    }
  ]
}