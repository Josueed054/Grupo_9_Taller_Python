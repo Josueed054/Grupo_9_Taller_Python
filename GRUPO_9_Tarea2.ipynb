{
  "nbformat": 4,
  "nbformat_minor": 0,
  "metadata": {
    "colab": {
      "provenance": []
    },
    "kernelspec": {
      "name": "python3",
      "display_name": "Python 3"
    },
    "language_info": {
      "name": "python"
    }
  },
  "cells": [
    {
      "cell_type": "code",
      "execution_count": null,
      "metadata": {
        "colab": {
          "base_uri": "https://localhost:8080/"
        },
        "id": "xIqUJmIF9B55",
        "outputId": "69ceac6c-feac-4b42-e062-644efe78e313"
      },
      "outputs": [
        {
          "output_type": "stream",
          "name": "stdout",
          "text": [
            "Requirement already satisfied: pandas in /usr/local/lib/python3.10/dist-packages (2.1.4)\n",
            "Requirement already satisfied: numpy<2,>=1.22.4 in /usr/local/lib/python3.10/dist-packages (from pandas) (1.26.4)\n",
            "Requirement already satisfied: python-dateutil>=2.8.2 in /usr/local/lib/python3.10/dist-packages (from pandas) (2.8.2)\n",
            "Requirement already satisfied: pytz>=2020.1 in /usr/local/lib/python3.10/dist-packages (from pandas) (2024.1)\n",
            "Requirement already satisfied: tzdata>=2022.1 in /usr/local/lib/python3.10/dist-packages (from pandas) (2024.1)\n",
            "Requirement already satisfied: six>=1.5 in /usr/local/lib/python3.10/dist-packages (from python-dateutil>=2.8.2->pandas) (1.16.0)\n"
          ]
        }
      ],
      "source": [
        "!pip install pandas\n"
      ]
    },
    {
      "cell_type": "markdown",
      "source": [
        "I. Copia el siguiente diccionario en una cédula de Colab. A partir de él, crea un dataframe\n",
        "llamado 𝒏𝒇𝒐 utilizando Pandas."
      ],
      "metadata": {
        "id": "ZdE1vLIE_IF-"
      }
    },
    {
      "cell_type": "code",
      "source": [
        "!pip install openpyxl\n",
        "import pandas as pd # Import the pandas module and give it the alias 'pd'"
      ],
      "metadata": {
        "colab": {
          "base_uri": "https://localhost:8080/"
        },
        "id": "LkdYB9NZOO10",
        "outputId": "d33b2d38-e9ae-4199-f088-f8edd4adfa48"
      },
      "execution_count": null,
      "outputs": [
        {
          "output_type": "stream",
          "name": "stdout",
          "text": [
            "Requirement already satisfied: openpyxl in /usr/local/lib/python3.10/dist-packages (3.1.5)\n",
            "Requirement already satisfied: et-xmlfile in /usr/local/lib/python3.10/dist-packages (from openpyxl) (1.1.0)\n"
          ]
        }
      ]
    },
    {
      "cell_type": "markdown",
      "source": [
        "I. Copia el siguiente diccionario en una cédula de Colab. A partir de él, crea un dataframe\n",
        "llamado 𝒏𝒇𝒐 utilizando Pandas.\n"
      ],
      "metadata": {
        "id": "53aSL9F9_bKp"
      }
    },
    {
      "cell_type": "code",
      "source": [
        "#I Creando el pd\n",
        "datos_ciudades = {\n",
        "    'Ciudad': ['Lima', 'Arequipa', 'Trujillo', 'Cuzco', 'Chiclayo', 'Piura', 'Iquitos', 'Huancayo', 'Tacna', 'Pucallpa'],\n",
        "    'Habitantes': [1047996, 1000169, 92331, 428450, 305717, 484475, 441649, 385098, 294395, 283734],\n",
        "    'Area_km2': [2672.28, 1545.77, 1487.7, 116.5, 279.89, 6217.26, 368.9, 109.19, 59.4, 483.44],\n",
        "    'Altitud_m': [154, 2325, 34, 3399, 29, 29, 106, 3271, 562, 156],\n",
        "    'Densidad_poblacion_por_km2': [3924, 64.8, 62.1, 3673, 1091.6, 77.9, 1196, 3528.6, 4966, 587.2]\n",
        "}\n",
        "nf = pd.DataFrame(data = datos_ciudades)\n",
        "print (nf)"
      ],
      "metadata": {
        "colab": {
          "base_uri": "https://localhost:8080/"
        },
        "id": "gTFjEeN_QnX5",
        "outputId": "2bcedf65-27d0-4b64-caaf-efc897f2e06f"
      },
      "execution_count": null,
      "outputs": [
        {
          "output_type": "stream",
          "name": "stdout",
          "text": [
            "     Ciudad  Habitantes  Area_km2  Altitud_m  Densidad_poblacion_por_km2\n",
            "0      Lima     1047996   2672.28        154                      3924.0\n",
            "1  Arequipa     1000169   1545.77       2325                        64.8\n",
            "2  Trujillo       92331   1487.70         34                        62.1\n",
            "3     Cuzco      428450    116.50       3399                      3673.0\n",
            "4  Chiclayo      305717    279.89         29                      1091.6\n",
            "5     Piura      484475   6217.26         29                        77.9\n",
            "6   Iquitos      441649    368.90        106                      1196.0\n",
            "7  Huancayo      385098    109.19       3271                      3528.6\n",
            "8     Tacna      294395     59.40        562                      4966.0\n",
            "9  Pucallpa      283734    483.44        156                       587.2\n"
          ]
        }
      ]
    },
    {
      "cell_type": "markdown",
      "source": [
        "II. Realiza el mismo procedimiento con el siguiente diccionario. A partir de él, crea un\n",
        "dataframe llamado 𝒏𝒐𝒎𝒃𝒓𝒆𝒔.\n"
      ],
      "metadata": {
        "id": "iucVYADg_fSK"
      }
    },
    {
      "cell_type": "code",
      "source": [
        "#Mismo procedimiento con el df\n",
        "datos_ciudades_2 = {\n",
        "    'Ciudad': ['Lima', 'Arequipa', 'Trujillo', 'Cuzco', 'Chiclayo', 'Piura', 'Iquitos', 'Huancayo', 'Tacna', 'Pucallpa'],\n",
        "    'Gentilicio': ['Limeño', 'Arequipeño', 'Trujillano', 'Cusqueño', 'Chiclayano', 'Piurano', 'Iquiteño', 'Huancaino', 'Tacneño', 'Pucallpeño'],\n",
        "    'Provincia': ['Lima', 'Arequipa', 'Trujillo', 'Cuzco', 'Chiclayo', 'Piura', 'Maynas', 'Huancayo', 'Tacna', 'Coronel Portillo'],\n",
        "    'Región': ['Lima', 'Arequipa', 'La Libertad', 'Cuzco', 'Lambayeque', 'Piura', 'Loreto', 'Junín', 'Tacna', 'Ucayali']\n",
        "}\n",
        "nombres = pd.DataFrame(data = datos_ciudades_2)\n",
        "print (nombres)"
      ],
      "metadata": {
        "colab": {
          "base_uri": "https://localhost:8080/"
        },
        "id": "e_mQ5QoiQ5uo",
        "outputId": "4925dd38-0641-445e-8b18-71d5bc4fec20"
      },
      "execution_count": null,
      "outputs": [
        {
          "output_type": "stream",
          "name": "stdout",
          "text": [
            "     Ciudad  Gentilicio         Provincia       Región\n",
            "0      Lima     Limeño              Lima         Lima\n",
            "1  Arequipa  Arequipeño          Arequipa     Arequipa\n",
            "2  Trujillo  Trujillano          Trujillo  La Libertad\n",
            "3     Cuzco    Cusqueño             Cuzco        Cuzco\n",
            "4  Chiclayo  Chiclayano          Chiclayo   Lambayeque\n",
            "5     Piura     Piurano             Piura        Piura\n",
            "6   Iquitos    Iquiteño            Maynas       Loreto\n",
            "7  Huancayo   Huancaino          Huancayo        Junín\n",
            "8     Tacna     Tacneño             Tacna        Tacna\n",
            "9  Pucallpa  Pucallpeño  Coronel Portillo      Ucayali\n"
          ]
        }
      ]
    },
    {
      "cell_type": "markdown",
      "source": [
        "III. Con ambos dataframes, realiza un inner join. Guarda el resultado en un nuevo dataframe\n",
        "llamado 𝒄𝒖𝒂𝒅𝒓𝒐_𝟏\n"
      ],
      "metadata": {
        "id": "ZMsBNZfO_r8F"
      }
    },
    {
      "cell_type": "code",
      "source": [
        "#Tarea 3. . Con ambos dataframes, realiza un inner join. Guarda el resultado en un nuevo dataframe llamado cuadro_1\n",
        "cuadro_1 = pd.merge ( nf, nombres , on = 'Ciudad', how = 'inner')\n",
        "print (cuadro_1)\n"
      ],
      "metadata": {
        "colab": {
          "base_uri": "https://localhost:8080/"
        },
        "id": "klishjC-Rn5A",
        "outputId": "78d0ccd1-3c72-4a3f-b4e7-1db514973e7d"
      },
      "execution_count": null,
      "outputs": [
        {
          "output_type": "stream",
          "name": "stdout",
          "text": [
            "     Ciudad  Habitantes  Area_km2  Altitud_m  Densidad_poblacion_por_km2  \\\n",
            "0      Lima     1047996   2672.28        154                      3924.0   \n",
            "1  Arequipa     1000169   1545.77       2325                        64.8   \n",
            "2  Trujillo       92331   1487.70         34                        62.1   \n",
            "3     Cuzco      428450    116.50       3399                      3673.0   \n",
            "4  Chiclayo      305717    279.89         29                      1091.6   \n",
            "5     Piura      484475   6217.26         29                        77.9   \n",
            "6   Iquitos      441649    368.90        106                      1196.0   \n",
            "7  Huancayo      385098    109.19       3271                      3528.6   \n",
            "8     Tacna      294395     59.40        562                      4966.0   \n",
            "9  Pucallpa      283734    483.44        156                       587.2   \n",
            "\n",
            "   Gentilicio         Provincia       Región  \n",
            "0     Limeño              Lima         Lima  \n",
            "1  Arequipeño          Arequipa     Arequipa  \n",
            "2  Trujillano          Trujillo  La Libertad  \n",
            "3    Cusqueño             Cuzco        Cuzco  \n",
            "4  Chiclayano          Chiclayo   Lambayeque  \n",
            "5     Piurano             Piura        Piura  \n",
            "6    Iquiteño            Maynas       Loreto  \n",
            "7   Huancaino          Huancayo        Junín  \n",
            "8     Tacneño             Tacna        Tacna  \n",
            "9  Pucallpeño  Coronel Portillo      Ucayali  \n"
          ]
        }
      ]
    },
    {
      "cell_type": "markdown",
      "source": [
        "IV. Resume las estadísticas descriptivas del dataframe y responde ¿Cuál es la mínima\n",
        "densidad poblacional? ¿A cuál ciudad corresponde? ¿Y la máxima?"
      ],
      "metadata": {
        "id": "6ZEx-uGs_4MM"
      }
    },
    {
      "cell_type": "code",
      "source": [
        "estadisticas = cuadro_1.describe()\n",
        "print (estadisticas)"
      ],
      "metadata": {
        "colab": {
          "base_uri": "https://localhost:8080/"
        },
        "id": "CIcDdB3zU-hw",
        "outputId": "f5becf77-1a07-4e54-f990-8c8109d40dfc"
      },
      "execution_count": null,
      "outputs": [
        {
          "output_type": "stream",
          "name": "stdout",
          "text": [
            "         Habitantes    Area_km2    Altitud_m  Densidad_poblacion_por_km2\n",
            "count  1.000000e+01    10.00000    10.000000                   10.000000\n",
            "mean   4.764014e+05  1334.03300  1006.500000                 1917.120000\n",
            "std    3.090940e+05  1917.13852  1410.508754                 1892.333136\n",
            "min    9.233100e+04    59.40000    29.000000                   62.100000\n",
            "25%    2.972255e+05   157.34750    52.000000                  205.225000\n",
            "50%    4.067740e+05   426.17000   155.000000                 1143.800000\n",
            "75%    4.737685e+05  1531.25250  1884.250000                 3636.900000\n",
            "max    1.047996e+06  6217.26000  3399.000000                 4966.000000\n"
          ]
        }
      ]
    },
    {
      "cell_type": "code",
      "source": [
        "#Mínima densidad poblacional\n",
        "minima_densidad = cuadro_1['Densidad_poblacion_por_km2'].min()\n",
        "máxima_densidad = cuadro_1['Densidad_poblacion_por_km2'].max()\n",
        "#Buscar las ciudades\n",
        "ciudad_maxima_densidad = datos_ciudades['Ciudad'][cuadro_1['Densidad_poblacion_por_km2'].idxmax()]\n",
        "ciudad_minima_densidad = datos_ciudades['Ciudad'][cuadro_1['Densidad_poblacion_por_km2'].idxmin()]\n",
        "\n",
        "print (f'La máxima densidad poblacional es {máxima_densidad} con ubicaión en {ciudad_maxima_densidad}')\n",
        "print (f'La mínima densidad poblacional es {minima_densidad} con ubiación en {ciudad_minima_densidad}')\n"
      ],
      "metadata": {
        "colab": {
          "base_uri": "https://localhost:8080/"
        },
        "id": "4dyvEL1jVbSG",
        "outputId": "f3fc3703-41e5-40ee-d602-c47a3dd3dfcc"
      },
      "execution_count": null,
      "outputs": [
        {
          "output_type": "stream",
          "name": "stdout",
          "text": [
            "La máxima densidad poblacional es 4966.0 con ubicaión en Tacna\n",
            "La mínima densidad poblacional es 62.1 con ubiación en Trujillo\n"
          ]
        }
      ]
    },
    {
      "cell_type": "code",
      "source": [
        "!pip install matplotlib"
      ],
      "metadata": {
        "id": "_SyW6OVGYoaT",
        "colab": {
          "base_uri": "https://localhost:8080/"
        },
        "outputId": "c99c3fec-28a9-4cdd-9bc2-33ae5747e214"
      },
      "execution_count": null,
      "outputs": [
        {
          "output_type": "stream",
          "name": "stdout",
          "text": [
            "Requirement already satisfied: matplotlib in /usr/local/lib/python3.10/dist-packages (3.7.1)\n",
            "Requirement already satisfied: contourpy>=1.0.1 in /usr/local/lib/python3.10/dist-packages (from matplotlib) (1.2.1)\n",
            "Requirement already satisfied: cycler>=0.10 in /usr/local/lib/python3.10/dist-packages (from matplotlib) (0.12.1)\n",
            "Requirement already satisfied: fonttools>=4.22.0 in /usr/local/lib/python3.10/dist-packages (from matplotlib) (4.53.1)\n",
            "Requirement already satisfied: kiwisolver>=1.0.1 in /usr/local/lib/python3.10/dist-packages (from matplotlib) (1.4.5)\n",
            "Requirement already satisfied: numpy>=1.20 in /usr/local/lib/python3.10/dist-packages (from matplotlib) (1.26.4)\n",
            "Requirement already satisfied: packaging>=20.0 in /usr/local/lib/python3.10/dist-packages (from matplotlib) (24.1)\n",
            "Requirement already satisfied: pillow>=6.2.0 in /usr/local/lib/python3.10/dist-packages (from matplotlib) (9.4.0)\n",
            "Requirement already satisfied: pyparsing>=2.3.1 in /usr/local/lib/python3.10/dist-packages (from matplotlib) (3.1.2)\n",
            "Requirement already satisfied: python-dateutil>=2.7 in /usr/local/lib/python3.10/dist-packages (from matplotlib) (2.8.2)\n",
            "Requirement already satisfied: six>=1.5 in /usr/local/lib/python3.10/dist-packages (from python-dateutil>=2.7->matplotlib) (1.16.0)\n"
          ]
        }
      ]
    },
    {
      "cell_type": "code",
      "source": [
        "import matplotlib.pyplot as plt\n",
        "\n",
        "# Datos para el gráfico\n",
        "ciudades = cuadro_1['Ciudad']\n",
        "habitantes = cuadro_1['Habitantes']\n",
        "\n",
        "# Crear el gráfico de barras\n",
        "plt.figure(figsize=(10, 6)) #Ajustar el tamaño del cuadro\n",
        "plt.bar(ciudades, habitantes, color='skyblue')\n",
        "plt.xlabel('Ciudad')\n",
        "plt.ylabel('Número de Habitantes')\n",
        "plt.title('Número de Habitantes en Cada Ciudad')\n",
        "\n",
        "\n",
        "# Mostrar el gráfico\n",
        "\n",
        "plt.show()\n"
      ],
      "metadata": {
        "colab": {
          "base_uri": "https://localhost:8080/",
          "height": 564
        },
        "id": "Aw9XD2VOAdsT",
        "outputId": "fa50505a-2480-4d1b-ce10-acb7495cd8a9"
      },
      "execution_count": null,
      "outputs": [
        {
          "output_type": "display_data",
          "data": {
            "text/plain": [
              "<Figure size 1000x600 with 1 Axes>"
            ],
            "image/png": "[encoded data removed]"
          },
          "metadata": {}
        }
      ]
    },
    {
      "cell_type": "code",
      "source": [
        "\n",
        "\n",
        "# Datos para el gráfico\n",
        "alturas = cuadro_1['Altitud_m']\n",
        "habitantes = cuadro_1['Habitantes']\n",
        "\n",
        "# Creando el gráfico de dispersión\n",
        "plt.figure(figsize=(10, 6))  #Ajustado el tamaño del cuadro\n",
        "plt.scatter(alturas, habitantes, color='orange', edgecolor='black', alpha=0.7)\n",
        "plt.xlabel('Altitud (m)') # Eje x\n",
        "plt.ylabel('Número de Habitantes') #Eje Y\n",
        "plt.title('Dispersión entre Altitud y Número de Habitantes en las Ciudades') #Título\n",
        "\n",
        "plt.grid(True)  # Añadir una cuadrícula para mayor claridad\n",
        "\n",
        "plt.show()\n"
      ],
      "metadata": {
        "colab": {
          "base_uri": "https://localhost:8080/",
          "height": 565
        },
        "id": "WBAXFxXoBz9n",
        "outputId": "ce54ad69-ec35-49a1-8e0d-13e81b0bfa78"
      },
      "execution_count": null,
      "outputs": [
        {
          "output_type": "display_data",
          "data": {
            "text/plain": [
              "<Figure size 1000x600 with 1 Axes>"
            ],
            "image/png": "[encoded data removed]"
          },
          "metadata": {}
        }
      ]
    }
  ]
}